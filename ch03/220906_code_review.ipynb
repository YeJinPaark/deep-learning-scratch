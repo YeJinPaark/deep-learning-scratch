{
 "cells": [
  {
   "cell_type": "markdown",
   "metadata": {},
   "source": [
    "3.6.2 신경망의 추론 처리\n",
    "    - MNIST 데이터셋의 경우, 입력층 뉴런 수 784(28*28) + 출력층 뉴런 수 10(0~9)\n",
    "    - 은닉 층의 뉴런 수는 우선 임의로 지정(50, 100)"
   ]
  },
  {
   "cell_type": "code",
   "execution_count": 13,
   "metadata": {},
   "outputs": [],
   "source": [
    "import numpy as np\n",
    "\n",
    "def sigmoid(x):\n",
    "    return (1 / (1 + np.exp(-x)))\n",
    "\n",
    "def softmax(a):\n",
    "    c=np.max(a)\n",
    "    exp_a=np.exp(a-c) # 오버플로 방지\n",
    "    sum_exp_a=np.sum(exp_a)\n",
    "    y=exp_a/sum_exp_a    \n",
    "\n",
    "def get_data():\n",
    "    (x_train, t_train), (x_test, t_test) = load_mnist(normalize=True, flatten=True, one_hot_label=False)\n",
    "# normalize 옵션으로 픽셀의 값을 0.0~ 1.0 범위로 변환 == 전처리 작업으로 정규화 수행\n",
    "    return x_test, t_test\n",
    "\n",
    "def init_network(): # pickle 파일인 sample_weight.pkl에 저장된 학습된 가중치 매개변수를 읽어옴\n",
    "    with open(\"sample_weight.pkl\", 'rb') as f:\n",
    "        network=pickle.load(f)  # 가중치와 편향 매개변수가 딕셔너리 변수로 저장되어 있음\n",
    "\n",
    "    return network\n",
    "\n",
    "def predict(network, x):\n",
    "    W1, W2, W3 = network['W1'], network['W2'], network['W3']\n",
    "    b1, b2, b3 = network['b1'], network['b2'], network['b3']\n",
    "\n",
    "    a1=np.dot(x, W1) + b1\n",
    "    z1=sigmoid(a1)\n",
    "    a2=np.dot(z1,W2) + b2\n",
    "    z2=sigmoid(a2)\n",
    "    a3=np.dot(z2,W3) + b3\n",
    "    y=softmax(a3)\n",
    "\n",
    "    return y"
   ]
  },
  {
   "cell_type": "markdown",
   "metadata": {},
   "source": [
    "* 전처리: 신경망의 입력 데이터에 특정 변환을 가하는 것\n",
    "    - 정규화: 데이터를 특정 범위로 변환하는 처리\n",
    "    - 백색화: 전체 데이터를 균일하게 분포하도록 처리"
   ]
  },
  {
   "cell_type": "code",
   "execution_count": 14,
   "metadata": {},
   "outputs": [
    {
     "name": "stdout",
     "output_type": "stream",
     "text": [
      "Accuracy:0.098\n"
     ]
    }
   ],
   "source": [
    "import sys, os\n",
    "sys.path.append(os.pardir)\n",
    "from mnist import load_mnist\n",
    "\n",
    "import pickle\n",
    "\n",
    "# 정확도 평가\n",
    "x, t = get_data()               # 데이터셋 획득\n",
    "network = init_network()        # 네트워크 생성\n",
    "\n",
    "accuracy_cnt=0\n",
    "for i in range(len(x)):\n",
    "    y=predict(network, x[i])    # 이미지 데이터를 하나씩 predict() 함수로 분류-> 각 레이블의 확률을 넘파이 배열로 반환\n",
    "    p=np.argmax(y)              # 확률이 가장 높은 원소의 인덱스 추츨 == 예측 결과\n",
    "    if p==t[i]:\n",
    "        accuracy_cnt+=1         # 신경망 예측과 정답 레이블 비교 후 정확도 업데이트\n",
    "\n",
    "print(\"Accuracy:\" + str(float(accuracy_cnt)/len(x)))"
   ]
  },
  {
   "cell_type": "markdown",
   "metadata": {},
   "source": [
    "3.6.3 배치 처리"
   ]
  },
  {
   "cell_type": "code",
   "execution_count": 16,
   "metadata": {},
   "outputs": [
    {
     "name": "stdout",
     "output_type": "stream",
     "text": [
      "(10000, 784)\n",
      "(784,)\n",
      "(784, 50)\n",
      "(50, 100)\n",
      "(100, 10)\n"
     ]
    }
   ],
   "source": [
    "x, _ = get_data()\n",
    "network=init_network()\n",
    "W1, W2, W3 = network['W1'], network['W2'], network['W3']\n",
    "\n",
    "print(x.shape)\n",
    "print(x[0].shape)\n",
    "print(W1.shape)\n",
    "print(W2.shape)\n",
    "print(W3.shape)\n",
    "# 다차원 배열의 대응하는 차원의 원소 수 일치 확인\n",
    "# 최종 결과로 원소가 10개인 1차원 배열 출력"
   ]
  },
  {
   "cell_type": "markdown",
   "metadata": {},
   "source": [
    "- batch: 하나로 묶은 입력 데이터\n",
    "- 배치 처리의 이점\n",
    "    1. 이미지 1장당 처리 시간을 대폭 축소\n",
    "         - 수치 계산 라이브러리 대부분이 큰 배열을 효율적으로 처리할 수 있도록 최적화되어 있음\n",
    "         - 데이터 전송의 병목 현상을 줄일 수 있음\n",
    "         = 느린 입출력 장치를 통해 데이터를 읽는 횟수에 비해 CPU 및 GPU로 순수 계산을 수행하는 비율 향상"
   ]
  }
 ],
 "metadata": {
  "kernelspec": {
   "display_name": "Python 3.9.5 64-bit",
   "language": "python",
   "name": "python3"
  },
  "language_info": {
   "codemirror_mode": {
    "name": "ipython",
    "version": 3
   },
   "file_extension": ".py",
   "mimetype": "text/x-python",
   "name": "python",
   "nbconvert_exporter": "python",
   "pygments_lexer": "ipython3",
   "version": "3.9.5"
  },
  "orig_nbformat": 4,
  "vscode": {
   "interpreter": {
    "hash": "28435c4127f67b7607031f32967fe3943e6f69f1a5ec9adab2b1e0962cf71e07"
   }
  }
 },
 "nbformat": 4,
 "nbformat_minor": 2
}
