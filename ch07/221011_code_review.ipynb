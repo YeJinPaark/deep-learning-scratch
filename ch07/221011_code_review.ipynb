{
 "cells": [
  {
   "cell_type": "markdown",
   "metadata": {},
   "source": [
    "### 7. 합성곱 신경망(CNN)"
   ]
  },
  {
   "cell_type": "markdown",
   "metadata": {},
   "source": [
    "- `합성곱 신경망`(convolutional neural network, CNN)\n",
    "    - 이미지 인식, 음성 인식 등 다양하게 사용"
   ]
  },
  {
   "cell_type": "markdown",
   "metadata": {},
   "source": [
    "##### 7.1 전체 구조"
   ]
  },
  {
   "cell_type": "markdown",
   "metadata": {},
   "source": [
    "- 기존 신경망 + 합성곱 계층 + 폴링 계층  \n",
    "- `완전연결(fully-connected)`: 기존 신경망의 형태, 인접하는 계층의 모든 뉴런과 결합-> Affine 계층으로 구현-> 'Affine-ReLU' 형태  \n",
    "\n",
    "- CNN: 'Conv-ReLU-(Pooling)' 형태\n",
    "    - 출력에 가까운 층은 기존의 'Affine-ReLU'  \n",
    "    - 출력층에서 'Affine-Softmax'"
   ]
  },
  {
   "cell_type": "markdown",
   "metadata": {},
   "source": [
    "##### 7.2 합성곱 계층"
   ]
  },
  {
   "cell_type": "markdown",
   "metadata": {},
   "source": [
    "- padding, stride\n",
    "- 각 계층 사이에서 입체적인 데이터가 흐름"
   ]
  },
  {
   "cell_type": "markdown",
   "metadata": {},
   "source": [
    "##### 7.2.1 완전연결계층의 문제점"
   ]
  },
  {
   "cell_type": "markdown",
   "metadata": {},
   "source": [
    "- `완전연결 계층`\n",
    "    - 특징\n",
    "        - 인접하는 계층의 뉴런이 모두 연결  \n",
    "        - 출력의 수를 임의로 정할 수 있음  \n",
    "    - 단점\n",
    "        - 데이터의 형상이 무시됨  \n",
    "        $\\equiv$ 입력데이터가 이미지일 때, 세로*가로*채널(색상)을 1차원 데이터로 바꾸어 입력해야했음\n",
    "- `합성곱 계층`\n",
    "    - 특징\n",
    "        - 형상 유지 가능  \n",
    "        $\\equiv$ 이미지처럼 형상을 가진 데이터를 제대로 이해할 가능성 존재  \n",
    "        - `특징 맵(feature map)`: CNN에서 합성곱 계층의 입출력 데이터 지칭  \n",
    "            - ex) 입력 데이터 = 입력 특징 맵, 출력 데이터 = 출력 특징 맵"
   ]
  },
  {
   "cell_type": "markdown",
   "metadata": {},
   "source": [
    "##### 7.2.2 합성곱 연산"
   ]
  },
  {
   "cell_type": "markdown",
   "metadata": {},
   "source": [
    "- 합성곱 연산\n",
    "    $\\equiv$ 이미지 처리의 필터(커널) 연산\n",
    "\n",
    "    - 필터의 window를 일정 간격으로 이동해가며 입력 데잍에 적용  \n",
    "    $\\to$ 입력과 필터에서 대응하는 원소끼리 단일 곱셈-누산(FMA) 연산  \n",
    "    $\\to$ 필터 적용한 값에 편향 적용\n",
    "    \n",
    "    - 필터의 매개변수가 기존 완전연결 신경망의 가중치 매개변수에 해당\n",
    "\n",
    "- ex) (높이, 너비) 형상의 데이터 적용"
   ]
  }
 ],
 "metadata": {
  "language_info": {
   "name": "python"
  },
  "orig_nbformat": 4
 },
 "nbformat": 4,
 "nbformat_minor": 2
}
