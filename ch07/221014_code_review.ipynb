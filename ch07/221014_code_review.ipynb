{
 "cells": [
  {
   "cell_type": "markdown",
   "metadata": {},
   "source": [
    "##### 7.5 CNN 구현"
   ]
  },
  {
   "cell_type": "markdown",
   "metadata": {},
   "source": [
    "- 손글씨 숫자를 인식하는 CNN 구현  \n",
    "- SimpleConvNet: `Convolution-ReLU-Polling-Affine-ReLU Affine-Softmax'\n",
    "\n",
    "- 초기화 때 인수\n",
    "    - input_dim: 입력 데이터(채널 수, 높이, 너비)의 차원 \n",
    "\n",
    "    - 'conv_param': 합성곱 계층의 하이퍼파리미터(딕셔너리)  \n",
    "        - 딕셔너리의 키  \n",
    "            - filter_num(필터 수), filter_size(필터 크기)  \n",
    "            - stride(스트라이드), pad(패딩)  \n",
    "            - hidden_size(은닉층(완전연결)의 뉴런 수), output_size(출력층(완전연결)의 뉴런 수)  \n",
    "            - weight_init_std(초기화 때의 가중치 표준편차)"
   ]
  },
  {
   "cell_type": "code",
   "execution_count": 3,
   "metadata": {},
   "outputs": [
    {
     "ename": "SyntaxError",
     "evalue": "invalid syntax (3751956128.py, line 4)",
     "output_type": "error",
     "traceback": [
      "\u001b[1;36m  Input \u001b[1;32mIn [3]\u001b[1;36m\u001b[0m\n\u001b[1;33m    def __init__(self, input_dim=(1, 28, 28), conv_param={'filter_num': 30, 'filter_size': 5, 'pad': 0, 'stride'=1}, hidden_size=100, output_size=10, weight_init_std=0.01):\u001b[0m\n\u001b[1;37m                                                                                                                ^\u001b[0m\n\u001b[1;31mSyntaxError\u001b[0m\u001b[1;31m:\u001b[0m invalid syntax\n"
     ]
    }
   ],
   "source": [
    "import numpy as np\n",
    "\n",
    "class SimpleConvNet:        # 다시 코드 체크해볼 것\n",
    "    def __init__(self, input_dim=(1, 28, 28), conv_param={'filter_num': 30, 'filter_size': 5, 'pad': 0, 'stride'=1}, hidden_size=100, output_size=10, weight_init_std=0.01):\n",
    "        filter_num = conv_param['filter_num']\n",
    "        filter_size = conv_param['filter_size']\n",
    "        filter_pad = conv_param['pad']\n",
    "        filter_stride = conv_param['stride']\n",
    "\n",
    "        input_size = input_dim[1]\n",
    "        conv_output_size = (input_size - filter_size + 2 * filter_pad) / filter_stride + 1\n",
    "        pool_output_size = int(filter_num * (conv_output_size / 2 ) * (conv_output_size /2))\n",
    "\n",
    "\n",
    "        self.params = {}\n",
    "\n",
    "        # 1번째 층의 합성곱 계층의 가중치와 편향\n",
    "        self.params['W1'] = weight_init_std * np.random.rand(filter_num, input_dim[0], filter_size, filter_size)\n",
    "        self.params['b1'] = np.zeros(filter_num)\n",
    "\n",
    "        # 나머지 두 완전연결 계층의 가중치와 편향\n",
    "        self.params['W2'] = weight_init_std * np.random.rand(pool_output_size, hidden_size)\n",
    "        self.params['b2'] = np.zeros(hidden_size)\n",
    "\n",
    "        self.params['W3'] = weight_init_std * np.random.rand(hidden_size, output_size)\n",
    "        self.params['b3'] = np.zeros(output_size)\n",
    "\n",
    "\n",
    "        self.layers = OrderedDict()     # 순서가 있는 딕셔너리 layers에 계층을 차례로 추가\n",
    "\n",
    "        self.layers['Conv1'] = Convolution(self.params['W1'], self.params[b1], conv_param['stride'], conv_param['pad'])\n",
    "        self.layers['Relu1'] = Relu()\n",
    "        self.layers['Pool1'] = Pooling(pool_h=2, pool_w = 2, stride = 2)\n",
    "        self.layers['Affine1'] = Affine(self.params['W2'], self.params['b2'])\n",
    "\n",
    "        self.layers['Relu2'] = Relu()\n",
    "        self.layers['Affine2'] = Affine(self.params['W3'], self.params['b3'])\n",
    "        self.last_layer = SoftmaxWithLoss()\n",
    "\n",
    "    \n",
    "    # x: 입력 데이터, t: 정답 레이블\n",
    "\n",
    "    def predict(self, x):       # layers에 추가한 계층을 맨 앞에서부터 차례로 forward 호출해 결과를 다음 계층에 전달\n",
    "        for layer in self.layers.values():\n",
    "            x = layer.forward(x)\n",
    "\n",
    "        return x\n",
    "\n",
    "    def loss(self, x, t):       # predict 메서드의 결과를 인수로 마지막 층의 forward 메서드 호출 == 첫 계층부터 마지막 계층까지 forward 처리\n",
    "        y=self.predict(x)\n",
    "\n",
    "        return self.lastLayer.forward(y, t)\n",
    "\n",
    "    def gradient(self, x, t):\n",
    "        # 순전파\n",
    "        self.loss(x, t)\n",
    "\n",
    "\n",
    "        # 역전파-> 매개변수의 기울기 연산\n",
    "        dout = 1\n",
    "        dout = self.lastLayer.backward(dout)\n",
    "\n",
    "        layers = list(self.layers.values())\n",
    "        layers.reverse()\n",
    "        for layer in layers:\n",
    "            dout = layer.backward(dout)\n",
    "\n",
    "\n",
    "        # 결과 저장\n",
    "        grads = {}\n",
    "\n",
    "        grads['W1'] = self.layerrs['Conv1'].dW\n",
    "        grads['b1'] = self.layerrs['Conv1'].db\n",
    "\n",
    "        grads['W2'] = self.layerrs['Affine1'].dW\n",
    "        grads['b2'] = self.layerrs['Affine1'].db\n",
    "\n",
    "        grads['W3'] = self.layerrs['Affine2'].dW\n",
    "        grads['b3'] = self.layerrs['Affine2'].db\n",
    "\n",
    "        return grads    # 가중치 매개변수의 기울기 저장\n"
   ]
  },
  {
   "cell_type": "markdown",
   "metadata": {},
   "source": [
    "- SimpleConvNet를 MNIST 데이터셋으로 학습 시,  \n",
    "    - 훈련 데이터에 대한 정확도: 99.82%\n",
    "    - 시험 데이터에 대한 정확도: 98.96%"
   ]
  }
 ],
 "metadata": {
  "kernelspec": {
   "display_name": "Python 3.9.5 64-bit",
   "language": "python",
   "name": "python3"
  },
  "language_info": {
   "codemirror_mode": {
    "name": "ipython",
    "version": 3
   },
   "file_extension": ".py",
   "mimetype": "text/x-python",
   "name": "python",
   "nbconvert_exporter": "python",
   "pygments_lexer": "ipython3",
   "version": "3.9.5"
  },
  "orig_nbformat": 4,
  "vscode": {
   "interpreter": {
    "hash": "28435c4127f67b7607031f32967fe3943e6f69f1a5ec9adab2b1e0962cf71e07"
   }
  }
 },
 "nbformat": 4,
 "nbformat_minor": 2
}
