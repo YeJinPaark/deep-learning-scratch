{
 "cells": [
  {
   "cell_type": "markdown",
   "metadata": {},
   "source": [
    "##### 7.2.3 패딩"
   ]
  },
  {
   "cell_type": "markdown",
   "metadata": {},
   "source": [
    "- `패딩(padding)`: 합성곱 연산을 수행하기 전에 입력 데이터 주변을 특정 값(ex. 0)으로 채움  \n",
    "- 목적: 출력 크기를 조정  \n",
    "$\\equiv$ 입력 데이터의 공간적 크기를 고정한 채로 다음 계층에 전달"
   ]
  },
  {
   "cell_type": "markdown",
   "metadata": {},
   "source": [
    "##### 7.2.4 스트라이드"
   ]
  },
  {
   "cell_type": "markdown",
   "metadata": {},
   "source": [
    "- `스트라이드(stride)`: 필터를 적용하는 위치의 간격  \n",
    "- 스트라이드를 키우면 $\\to$ 출력의 크기가 작아짐\n",
    "\n",
    "- `패딩, 스트라이드, 출력 크기 관계 수식화`  \n",
    "- 입력 크기: (H, W)  \n",
    "- 필터 크기: (FH, FW)  \n",
    "- 출력 크기: (OH, OW)  \n",
    "- 패딩(P), 스트라이드(S)  \n",
    "\n",
    "$$OH = {H+2P-FH \\over S} + 1$$  \n",
    "$$OW = {W+2P-FW \\over S} + 1$$  \n",
    "\n",
    "- 단, 분수 형태가 정수로 나눠떨어지는 값이어야 함  \n",
    "$\\equiv$ OH, OW는 원소의 수임\n",
    "\n",
    "$\\to$ 가장 가까운 정수로 반올림 등으로 예외처리"
   ]
  },
  {
   "cell_type": "markdown",
   "metadata": {},
   "source": [
    "##### 7.2.5 3차원 데이터의 합성곱 연산"
   ]
  },
  {
   "cell_type": "markdown",
   "metadata": {},
   "source": [
    "- 입력 데이터와 필터의 합성곱 연산을 채널마다 수행  \n",
    "$\\to$ 결과를 더해서 하나의 출력을 얻음  \n",
    "\n",
    "- [입력 데이터의 채널 수 = `필터의 채널 수`] 이어야 함\n",
    "- `필터 크기`는 원하는 값으로 설정 가능하나, 모든 채널의 필터가 동일해야 함"
   ]
  },
  {
   "cell_type": "markdown",
   "metadata": {},
   "source": [
    "##### 7.2.6 블록으로 생각하기"
   ]
  },
  {
   "cell_type": "markdown",
   "metadata": {},
   "source": [
    "- 입력 데이터: (channel, height, width) = (C, H, W)  \n",
    "- 필터 데이터: (C, FH, FW)\n",
    "\n",
    "- `출력 데이터`: (1, OH, OW)  \n",
    "$\\equiv$ 한 장의 특징 맵  \n",
    "$\\equiv$ 채널이 1개인 특징 맵\n",
    "\n",
    "- 합성곱 연산의 출력으로 다수의 채널  \n",
    "$\\equiv$ 다수의 필터(가중치) 사용\n",
    "$\\equiv$ 필터의 형상: (`FN`, C, FH, FW)\n",
    "\n",
    "$\\to$ 출력 데이터의 형상: (FN, OH, OW)\n",
    "\n",
    "- `편향`: (FN, 1, 1)  \n",
    "- 채널 하나에 값 하나씩으로 구성\n",
    "- 형상이 다른 블록의 덧셈은 넘파이의 브로드캐스트 기능을 구현 가능"
   ]
  },
  {
   "cell_type": "markdown",
   "metadata": {},
   "source": [
    "##### 7.2.7 배치 처리"
   ]
  },
  {
   "cell_type": "markdown",
   "metadata": {},
   "source": [
    "- 배치 처리: 입력 데이터를 한 덩어리로 묶어 배치로 처리  \n",
    "$\\to$ 처리 효율을 높이고, 미니 배치 방식의 학습 지원 가능하도록\n",
    "\n",
    "- 데이터의 차원 증가시켜: (데이터 수, 채널 수, 높이, 너비) = (`N`, C, H, W)  \n",
    "$\\equiv$ 신경망에 4차원 데이터가 하나 흐를 때마다 데이터 N개에 대한 합성곱 연산 수행  \n",
    "$\\equiv$ N회 분의 처리를 한 번에 수행"
   ]
  },
  {
   "cell_type": "markdown",
   "metadata": {},
   "source": [
    "##### 7.3 풀링 계층"
   ]
  },
  {
   "cell_type": "markdown",
   "metadata": {},
   "source": [
    "- `풀링`: 세로, 가로 방향의 공간을 줄이는 연산\n",
    "\n",
    "- `최대 풀링(Max pooling)`: 대상 영역의 최댓값을 구하는 연산  \n",
    "- 보통 풀링의 윈도우 크기와 스트라이드를 같은 값으로 설정  \n",
    "- 이미지 인식 분야에서 주로 사용\n",
    "\n",
    "- `평균 풀링(average pooling)`: 대상 영역의 평균 연산"
   ]
  },
  {
   "cell_type": "markdown",
   "metadata": {},
   "source": [
    "##### 7.3.1 풀링 계층의 특징"
   ]
  },
  {
   "cell_type": "markdown",
   "metadata": {},
   "source": [
    "- `학습해야 할 매개변수가 없다`  \n",
    "$\\equiv$ 대상 영역에서 최댓값이나 평균을 취하는 영역일 뿐\n",
    "\n",
    "- `채널 수가 변하지 않는다`\n",
    "$\\equiv$ 채널마다 독립적으로 연산\n",
    "$\\equiv$ 풀링 연산은 입력 데이터의 채널 수 그대로 출력 데이터로 내보냄\n",
    "\n",
    "- `입력의 변화에 영향을 적게 받는다(강건하다)`  \n",
    "$\\equiv$ 입력 데이터의 차이를 풀링이 흡수해 사라지게 하는 경향 존재"
   ]
  }
 ],
 "metadata": {
  "kernelspec": {
   "display_name": "Python 3.9.5 64-bit",
   "language": "python",
   "name": "python3"
  },
  "language_info": {
   "name": "python",
   "version": "3.9.5"
  },
  "orig_nbformat": 4,
  "vscode": {
   "interpreter": {
    "hash": "28435c4127f67b7607031f32967fe3943e6f69f1a5ec9adab2b1e0962cf71e07"
   }
  }
 },
 "nbformat": 4,
 "nbformat_minor": 2
}
