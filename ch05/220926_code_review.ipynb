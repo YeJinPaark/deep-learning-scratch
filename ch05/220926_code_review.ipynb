{
 "cells": [
  {
   "cell_type": "markdown",
   "metadata": {},
   "source": [
    "5.5.2 sigmoid 계층\n",
    "    - y = 1 / ( 1 + exp(-x) )\n",
    "    - 역전파\n",
    "        A. y=1/x -(미분)-> -1/x^2=-y^2\n",
    "            == 역전파 때, 상류의 예측값에 -y^2를 곱해 하류로 전달\n",
    "        B. + 노드 미분은 상류의 값을 여과 없이 하류로 전달\n",
    "        C. exp 노드 미분은 exp 연산\n",
    "        D. x 노드 미분은 순전파의 값을 서로 바꾸어 곱함\n",
    "    - 이 네 단계를 노출하지 않고, 입출력에 집중할 수 있음\n",
    "        : aL/ay*y^2*exp(-x)=aL/ay*y(1-y)"
   ]
  },
  {
   "cell_type": "code",
   "execution_count": 1,
   "metadata": {},
   "outputs": [],
   "source": [
    "import numpy as np\n",
    "\n",
    "class Sigmoid:\n",
    "    def __init__(self):\n",
    "        self.out=None\n",
    "\n",
    "    def forward(self, x):\n",
    "        out=1/(1+np.exp(-x))    #  순전파의 출력-> 추후 역전파에서 연산에 활용\n",
    "\n",
    "        return out\n",
    "\n",
    "    def backward(self, dout):\n",
    "        dx=dout*(1.0-self.out)*self.out\n",
    "\n",
    "        return dx"
   ]
  },
  {
   "cell_type": "markdown",
   "metadata": {},
   "source": [
    "5.6 Affine/Softmax 계층 구현\n",
    "5.6.1 Affine 계층\n",
    "    - Affine transformation: 신경망의 순전파 때 수행하는 행렬의 내적을 기하학에서 지칭하는 용어\n",
    "    - Affine 계층: 어파인 변환을 수행하는 처리"
   ]
  },
  {
   "cell_type": "code",
   "execution_count": 4,
   "metadata": {},
   "outputs": [
    {
     "name": "stdout",
     "output_type": "stream",
     "text": [
      "(2,)\n",
      "(2, 3)\n",
      "(3,)\n",
      "(3,)\n"
     ]
    }
   ],
   "source": [
    "from turtle import shape\n",
    "\n",
    "\n",
    "X=np.random.rand(2)     # 입력\n",
    "W=np.random.rand(2,3)   # 가중치\n",
    "B=np.random.rand(3)     # 편향\n",
    "\n",
    "print(X.shape)\n",
    "print(W.shape)\n",
    "print(B.shape)\n",
    "\n",
    "Y=np.dot(X, W)+B\n",
    "print(Y.shape)\n",
    "# 행렬의 내적(np.dot)은 대응하는 차원의 원소 수를 일치시켜야 함\n"
   ]
  },
  {
   "cell_type": "markdown",
   "metadata": {},
   "source": [
    "- 노드 사이에 행렬이 전달됨을 주의\n",
    "    : Y = np.dot(X,W) + B\n",
    "- 역전파\n",
    "    0. 예제 속에서 W^T는 (3,2)의 형상/ X는 (2,) / Y는 (3,)\n",
    "    A. aL/aX = aL/aY * W^T   # ? 좀 더 찾아볼 것!\n",
    "    B. aL/aW = X^T * aL/aY \n",
    "\n",
    "- 행렬 내적의 역전파: 행렬의 대응하는 차원의 원소 수가 일치하도록 내적을 조립하여 구할 수도 있음!"
   ]
  }
 ],
 "metadata": {
  "kernelspec": {
   "display_name": "Python 3.9.5 64-bit",
   "language": "python",
   "name": "python3"
  },
  "language_info": {
   "codemirror_mode": {
    "name": "ipython",
    "version": 3
   },
   "file_extension": ".py",
   "mimetype": "text/x-python",
   "name": "python",
   "nbconvert_exporter": "python",
   "pygments_lexer": "ipython3",
   "version": "3.9.5"
  },
  "orig_nbformat": 4,
  "vscode": {
   "interpreter": {
    "hash": "28435c4127f67b7607031f32967fe3943e6f69f1a5ec9adab2b1e0962cf71e07"
   }
  }
 },
 "nbformat": 4,
 "nbformat_minor": 2
}
