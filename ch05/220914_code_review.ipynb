{
 "cells": [
  {
   "cell_type": "markdown",
   "metadata": {},
   "source": [
    "5.4 단순한 계층 구현\n",
    "    - 사과 쇼핑 예 구현\n",
    "    - MulLayer: 계산 그래프의 곱셈 노드\n",
    "    - AddLayer: 계산 그래프의 덧셈 노드\n",
    "    - 계층 == 신경망의 기능 단위 ex) sigmoid, affine(행렬 내적)\n",
    "\n",
    "5.4.1 곱셈 계층"
   ]
  },
  {
   "cell_type": "code",
   "execution_count": 20,
   "metadata": {},
   "outputs": [],
   "source": [
    "class MulLayer:\n",
    "    def __init__(self):         # 변수 x, y 초기화\n",
    "        self.x=None\n",
    "        self.y=None\n",
    "\n",
    "    def forward(self, x, y):\n",
    "        self.x=x\n",
    "        self.y=y\n",
    "        out=x*y\n",
    "\n",
    "        return out\n",
    "\n",
    "    def backward(self, dout):   # 상류에서 넘어온 미분(dout)을 순전파 값을 서로 바꿔 곱한 후 전달\n",
    "        dx=dout*self.y          # x와 y를 바꿈\n",
    "        dy=dout*self.x\n",
    "\n",
    "        return dx, dy"
   ]
  },
  {
   "cell_type": "code",
   "execution_count": 21,
   "metadata": {},
   "outputs": [
    {
     "name": "stdout",
     "output_type": "stream",
     "text": [
      "220.00000000000003\n"
     ]
    }
   ],
   "source": [
    "apple=100\n",
    "apple_num=2\n",
    "tax=1.1\n",
    "\n",
    "# 계층들\n",
    "mul_apple_layer=MulLayer()\n",
    "mul_tax_layer=MulLayer()\n",
    "\n",
    "# 순전파\n",
    "apple_price=mul_apple_layer.forward(apple, apple_num)\n",
    "price=mul_tax_layer.forward(apple_price, tax)\n",
    "\n",
    "print(price)"
   ]
  },
  {
   "cell_type": "code",
   "execution_count": 22,
   "metadata": {},
   "outputs": [
    {
     "name": "stdout",
     "output_type": "stream",
     "text": [
      "2.2 110.00000000000001 200\n"
     ]
    }
   ],
   "source": [
    "# 각 변수에 대한 미분 연산, 호출 순서는 forward와 반대\n",
    "# backward()의 인수는 '순전파의 출력에 대한 미분'\n",
    "dprice=1\n",
    "dapple_price, dtax=mul_tax_layer.backward(dprice)\n",
    "dapple, dapple_num=mul_apple_layer.backward(dapple_price)\n",
    "\n",
    "print(dapple, dapple_num, dtax)"
   ]
  },
  {
   "cell_type": "markdown",
   "metadata": {},
   "source": [
    "5.4.2 덧셈 계층"
   ]
  },
  {
   "cell_type": "code",
   "execution_count": 23,
   "metadata": {},
   "outputs": [],
   "source": [
    "class AddLayer:\n",
    "    def __init__(self):         # 초기화 필요 X\n",
    "        pass\n",
    "\n",
    "    def forward(self, x, y):    # 인수 x, y를 더해 반환\n",
    "        out=x+y\n",
    "        return out\n",
    "\n",
    "    def backward(self, dout):   # 상류에서 내려온 미분(dout)을 그대로 하류로 전달\n",
    "        dx=dout*1\n",
    "        dy=dout*1\n",
    "        return dx, dy"
   ]
  },
  {
   "cell_type": "code",
   "execution_count": 24,
   "metadata": {},
   "outputs": [
    {
     "name": "stdout",
     "output_type": "stream",
     "text": [
      "715.0000000000001\n",
      "165.0 3.3000000000000003 3.3000000000000003 165.0 650\n"
     ]
    }
   ],
   "source": [
    "apple=100\n",
    "apple_num=2\n",
    "orange=150\n",
    "orange_num=3\n",
    "tax=1.1\n",
    "\n",
    "# 계층들\n",
    "mul_apple_layer=MulLayer()\n",
    "mul_orange_layer=MulLayer()\n",
    "add_apple_orange_layer=AddLayer()\n",
    "mul_tax_layer=MulLayer()\n",
    "\n",
    "# 순전파\n",
    "apple_price=mul_apple_layer.forward(apple, apple_num)\n",
    "orange_price=mul_orange_layer.forward(orange, orange_num)\n",
    "all_price=add_apple_orange_layer.forward(apple_price, orange_price)\n",
    "price=mul_tax_layer.forward(all_price, tax)\n",
    "\n",
    "# 역전파\n",
    "dprice=1\n",
    "dall_price, dtax=mul_tax_layer.backward(dprice)\n",
    "dapple_price, dorange_price=add_apple_orange_layer.backward(dall_price)\n",
    "dorange, dorange_num=mul_orange_layer.backward(dorange_price)\n",
    "dapple, dapple_num=mul_orange_layer.backward(dapple_price)\n",
    "\n",
    "print(price)\n",
    "print(dapple_num, dapple, dorange, dorange_num, dtax)"
   ]
  },
  {
   "cell_type": "markdown",
   "metadata": {},
   "source": [
    "5.5 활성화 함수 계층 구현\n",
    "    - 계층 각각을 클래스 하나로 구현\n",
    "\n",
    "5.5.1 ReLU 계층\n",
    "    - y=x(x>0),\n",
    "        0(x<=0)\n",
    "    - ay/ax=1(x>0), == 0보다 크면 역전파는 상류의 값을 그대로 하류로 전달\n",
    "            0(x<=0) == 하류로 신호를 전달하지 X"
   ]
  },
  {
   "cell_type": "code",
   "execution_count": 25,
   "metadata": {},
   "outputs": [],
   "source": [
    "class Relu:\n",
    "    def __init__(self):\n",
    "        self.mask=None      # True/False로 구성된 넘파이 배열\n",
    "                            # 순전파의 입력인 x의 원소 값이 0 이하인 인덱스: True\n",
    "                            #                              0보다 큰 원소: False\n",
    "    \n",
    "    def forward(self, x):\n",
    "        self.mask=(x<=0)\n",
    "        out=x.copy()\n",
    "        out[self.mask]=0\n",
    "\n",
    "        return out\n",
    "\n",
    "    def backward(self, dout):\n",
    "        dout[self.mask]=0\n",
    "        dx=dout\n",
    "\n",
    "        return dx"
   ]
  },
  {
   "cell_type": "code",
   "execution_count": 19,
   "metadata": {},
   "outputs": [
    {
     "name": "stdout",
     "output_type": "stream",
     "text": [
      "[[ 1.  -0.5]\n",
      " [-2.   3. ]]\n",
      "[[False  True]\n",
      " [ True False]]\n"
     ]
    }
   ],
   "source": [
    "import numpy as np\n",
    "\n",
    "x=np.array([[1.0, -0.5], [-2.0, 3.0]])\n",
    "print(x)\n",
    "\n",
    "mask=(x<=0) # 순전파의 입력 값이 0 이하면 역전파의 값이 0이 되어야 함\n",
    "print(mask)"
   ]
  }
 ],
 "metadata": {
  "kernelspec": {
   "display_name": "Python 3.9.5 64-bit",
   "language": "python",
   "name": "python3"
  },
  "language_info": {
   "codemirror_mode": {
    "name": "ipython",
    "version": 3
   },
   "file_extension": ".py",
   "mimetype": "text/x-python",
   "name": "python",
   "nbconvert_exporter": "python",
   "pygments_lexer": "ipython3",
   "version": "3.9.5"
  },
  "orig_nbformat": 4,
  "vscode": {
   "interpreter": {
    "hash": "28435c4127f67b7607031f32967fe3943e6f69f1a5ec9adab2b1e0962cf71e07"
   }
  }
 },
 "nbformat": 4,
 "nbformat_minor": 2
}
