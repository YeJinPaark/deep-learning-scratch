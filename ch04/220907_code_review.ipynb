{
 "cells": [
  {
   "cell_type": "markdown",
   "metadata": {},
   "source": [
    "4.2 손실함수(loss fucntion)\n",
    "    - 현재의 신경망이 훈련 데이터를 얼마나 잘 처리하지 못하느냐를 나타내는 지표\n",
    "    - 보통 평균 제곱 오차와 교차 엔트로피 오차 사용"
   ]
  },
  {
   "cell_type": "markdown",
   "metadata": {},
   "source": [
    "4.2.1 평균 제곱 오차(mean squared error, MSE)\n",
    "    - E = 1/2*sigma(yk-tk)^2\n",
    "    - yk: 신경망의 출력, tk: 정답 레이블, k: 데이터의 차원 수\n",
    "    - "
   ]
  },
  {
   "cell_type": "code",
   "execution_count": 3,
   "metadata": {},
   "outputs": [
    {
     "name": "stdout",
     "output_type": "stream",
     "text": [
      "0.09750000000000003\n",
      "0.5975\n"
     ]
    }
   ],
   "source": [
    "t=[0, 0, 1, 0, 0, 0, 0, 0, 0, 0]                        # 정답 레이블: '2'가 정답, 원-핫 인코딩 형태\n",
    "\n",
    "import numpy as np\n",
    "\n",
    "def mean_squared_error(y, t):\n",
    "    return 0.5*np.sum((y-t)**2)\n",
    "\n",
    "y=[0.1, 0.05, 0.6, 0.0, 0.05, 0.1, 0.0, 0.1, 0.0, 0.0]  # softmax 함수의 출력\n",
    "print(mean_squared_error(np.array(y), np.array(t)))\n",
    "\n",
    "y=[0.1, 0.05, 0.1, 0.0, 0.05, 0.1, 0.0, 0.6, 0.0, 0.0]\n",
    "print(mean_squared_error(np.array(y), np.array(t)))"
   ]
  },
  {
   "cell_type": "markdown",
   "metadata": {},
   "source": [
    "4.2.2 교차 엔트로피 오차(cross entropy error, CEE)\n",
    "    - E = -sigma(tklogyk)\n",
    "    - tk: 정답 레이블, tk: 원-핫 인코딩(정답에 해당하는 인덱스의 원소만 1)\n",
    "    - 정답일 때의 출력이 작아질수록 오차가 큼"
   ]
  },
  {
   "cell_type": "code",
   "execution_count": 4,
   "metadata": {},
   "outputs": [
    {
     "name": "stdout",
     "output_type": "stream",
     "text": [
      "0.510825457099338\n",
      "2.302584092994546\n"
     ]
    }
   ],
   "source": [
    "def cross_entropy_error(y, t):\n",
    "    delta=1e-7\n",
    "    return -np.sum(t*np.log(y+delta))\n",
    "\n",
    "y=[0.1, 0.05, 0.6, 0.0, 0.05, 0.1, 0.0, 0.1, 0.0, 0.0]  # softmax 함수의 출력\n",
    "print(cross_entropy_error(np.array(y), np.array(t)))\n",
    "\n",
    "y=[0.1, 0.05, 0.1, 0.0, 0.05, 0.1, 0.0, 0.6, 0.0, 0.0]\n",
    "print(cross_entropy_error(np.array(y), np.array(t)))"
   ]
  },
  {
   "cell_type": "markdown",
   "metadata": {},
   "source": [
    "4.2.3 미니배치 학습\n",
    "    - 훈련 데이터에 대한 손실함수를 최소화하는 매개변수 학습\n",
    "    - E = -1/N sigma(sigma(tnk*logynk))\n",
    "    - tnk: n번째 데이터의 k차원 째의 값, ynk: 신경망의 출력, tnk: 정답 레이블\n",
    "    - "
   ]
  }
 ],
 "metadata": {
  "kernelspec": {
   "display_name": "Python 3.9.5 64-bit",
   "language": "python",
   "name": "python3"
  },
  "language_info": {
   "codemirror_mode": {
    "name": "ipython",
    "version": 3
   },
   "file_extension": ".py",
   "mimetype": "text/x-python",
   "name": "python",
   "nbconvert_exporter": "python",
   "pygments_lexer": "ipython3",
   "version": "3.9.5"
  },
  "orig_nbformat": 4,
  "vscode": {
   "interpreter": {
    "hash": "28435c4127f67b7607031f32967fe3943e6f69f1a5ec9adab2b1e0962cf71e07"
   }
  }
 },
 "nbformat": 4,
 "nbformat_minor": 2
}
