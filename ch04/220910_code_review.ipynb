{
 "cells": [
  {
   "cell_type": "markdown",
   "metadata": {},
   "source": [
    "4.4.2 신경망에서의 기울기\n",
    "    - 기울기: 가중치 매개변수에 관한 손실 함수의 기울기\n",
    "    = 손실함수에 대한 미분의 형상은 가중치 형상과 동일"
   ]
  },
  {
   "cell_type": "code",
   "execution_count": 12,
   "metadata": {},
   "outputs": [],
   "source": [
    "import sys, os\n",
    "sys.path.append(os.pardir)\n",
    "import numpy as np\n",
    "from common.functions import softmax, cross_entropy_error\n",
    "from common.gradient import numerical_gradient\n",
    "\n",
    "class simpleNet:\n",
    "    def __init__(self):\n",
    "        self.W=np.random.randn(2,3) # 정규분포화로 초기화\n",
    "\n",
    "    def predict(self, x):   # 예측\n",
    "        return np.dot(x, self.W)\n",
    "\n",
    "    def loss(self, x, t):   # 손실 함수 연산, x: 입력 데이터, t: 정답 ㅔㄹ이블\n",
    "        z=self.predict(x)\n",
    "        y=softmax(z)\n",
    "        loss=cross_entropy_error(y,t)\n",
    "\n",
    "        return loss"
   ]
  },
  {
   "cell_type": "code",
   "execution_count": 13,
   "metadata": {},
   "outputs": [
    {
     "name": "stdout",
     "output_type": "stream",
     "text": [
      "[[-2.17250904 -0.90490188  1.44682235]\n",
      " [-1.78497968  1.04497659 -0.69413097]]\n",
      "[-2.90998713  0.3975378   0.24337554]\n",
      "0.7927155375475103\n"
     ]
    }
   ],
   "source": [
    "net=simpleNet()\n",
    "print(net.W)    # 가중치 매개변수\n",
    "\n",
    "x=np.array([0.6, 0.9])\n",
    "p=net.predict(x)\n",
    "print(p)        # 최댓값의 인덱스\n",
    "\n",
    "t=np.array([0, 0, 1])   # 정답 레이블\n",
    "print(net.loss(x, t))"
   ]
  },
  {
   "cell_type": "code",
   "execution_count": 14,
   "metadata": {},
   "outputs": [
    {
     "name": "stdout",
     "output_type": "stream",
     "text": [
      "[[ 0.01159821  0.31683335 -0.32843157]\n",
      " [ 0.01739732  0.47525003 -0.49264735]]\n"
     ]
    }
   ],
   "source": [
    "def f(W):\n",
    "    return net.loss(x, t)\n",
    "\n",
    "dW=numerical_gradient(f, net.W)\n",
    "print(dW)\n",
    "\n",
    "# w11=0.2 == w11을 h만큼 늘리면 손실함수의 값이 0.2h만큼 증가한다는 의미\n",
    "# -> 음의 방향으로 개인해야\n",
    "\n",
    "# w23=-0.5 == w23을 h만큼 늘리면 손실함수의 값이 0.5만큼 감소한다는 의미\n",
    "# -> 양의 방향으로 갱신해야"
   ]
  },
  {
   "cell_type": "code",
   "execution_count": 15,
   "metadata": {},
   "outputs": [],
   "source": [
    "# 위 def f(W)와 동일한 함수를 간단하게 구현\n",
    "f=lambda w: net.loss(x, t)\n",
    "dW=numerical_gradient(f, net.W)"
   ]
  }
 ],
 "metadata": {
  "kernelspec": {
   "display_name": "Python 3.9.5 64-bit",
   "language": "python",
   "name": "python3"
  },
  "language_info": {
   "codemirror_mode": {
    "name": "ipython",
    "version": 3
   },
   "file_extension": ".py",
   "mimetype": "text/x-python",
   "name": "python",
   "nbconvert_exporter": "python",
   "pygments_lexer": "ipython3",
   "version": "3.9.5"
  },
  "orig_nbformat": 4,
  "vscode": {
   "interpreter": {
    "hash": "28435c4127f67b7607031f32967fe3943e6f69f1a5ec9adab2b1e0962cf71e07"
   }
  }
 },
 "nbformat": 4,
 "nbformat_minor": 2
}
