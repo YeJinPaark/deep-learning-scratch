{
 "cells": [
  {
   "cell_type": "markdown",
   "metadata": {},
   "source": [
    "4.2.3 미니배치 학습\n",
    "    - 훈련 데이터에 대한 손실 함수의 값을 최소화하는 매개변수 도출\n",
    "    - E = -1/N sigma(sigma(tnk*logynk))\n",
    "    - tnk: n번째 데이터의 k차원 째의 값, ynk: 신경망의 출력, tnk: 정답 레이블\n",
    "    - 1/N == 정규화를 통한 평균 손실 함수 계산\n",
    "\n",
    "    - mini-batch: 신경망 학습에 사용될 훈련 데이터의 일부\n",
    "    - 미니배치 학습: 훈련 데이터 중 일부를 무작위로 선정해 학습에 사용"
   ]
  },
  {
   "cell_type": "code",
   "execution_count": 1,
   "metadata": {},
   "outputs": [
    {
     "name": "stdout",
     "output_type": "stream",
     "text": [
      "(60000, 784)\n",
      "(60000, 10)\n"
     ]
    }
   ],
   "source": [
    "import sys, os\n",
    "sys.path.append(os.pardir)\n",
    "import numpy as np\n",
    "from mnist import load_mnist\n",
    "\n",
    "(x_train, t_train), (x_test, t_test) = load_mnist(normalize=True, one_hot_label=True)\n",
    "\n",
    "print(x_train.shape)    # 훈련 데이터: 28*28차원\n",
    "print(t_train.shape)    # 정답 레이블: 10차원"
   ]
  },
  {
   "cell_type": "code",
   "execution_count": 3,
   "metadata": {},
   "outputs": [
    {
     "name": "stdout",
     "output_type": "stream",
     "text": [
      "[17217 13795  1622 25732 16026 52111 35036 22670 21929 51099]\n"
     ]
    }
   ],
   "source": [
    "train_size=x_train.shape[0]\n",
    "batch_size=10\n",
    "batch_mask=np.random.choice(train_size, batch_size) # 훈련 데이터에서 무작위로 원하는 수만큼 추출\n",
    "x_batch=x_train[batch_mask]\n",
    "t_batch=t_train[batch_mask]\n",
    "\n",
    "print(np.random.choice(60000, 10))"
   ]
  },
  {
   "cell_type": "markdown",
   "metadata": {},
   "source": [
    "4.2.4 (배치용) 교차 엔트로피 오차 구현"
   ]
  },
  {
   "cell_type": "code",
   "execution_count": null,
   "metadata": {},
   "outputs": [],
   "source": [
    "# 정답 레이블이 원-핫 인코딩으로 주어졌을 때\n",
    "def cross_entropy_error(y_t):\n",
    "    if y.ndim == 1:\n",
    "        t = t.reshape(1, t.size)    # 정답 레이블\n",
    "        y = y.reshpae(1, y.size)    # 신경망의 출력, 1차원이라면 데이터의 형상 변환\n",
    "\n",
    "    batch_size = y.shape[0]\n",
    "    return -np.sum(t*np.log(y)/batch_size)  # t가 0인 원소는 교차 엔트로피 오차도 0이므로 계산 무시 가능"
   ]
  },
  {
   "cell_type": "code",
   "execution_count": null,
   "metadata": {},
   "outputs": [],
   "source": [
    "# 정답 레이블이 숫자 레이블로 주어졌을 때\n",
    "def cross_entropy_error(y,t):\n",
    "    if y.ndim==1:\n",
    "        t=t.reshape(1, t.size)\n",
    "        y=y.reshape(1, y.size)\n",
    "\n",
    "    batch_size=y.shape[0]\n",
    "    return -np.sum(np.log(y[np.arange(batch_size), t]))/batch_size\n",
    "    # np.arange(batch_size): 0부터 batch_size-1까지 배열 생성\n",
    "    # t: 레이블 저장\n",
    "    # y[np.arange(batch_size), t]: 각 데이터의 정답 레이블에 해당하는 신경망의 출력 추출\n",
    "    # ex) np.arange(batch_size)=[0, 1, 2, 3, 4]\n",
    "    # t=[2, 7, 0, 9, 4]\n",
    "    # y[np.arange(batch_size), t]=[y[0, 2], y[1, 7], y[2, 0], y[3, 9], y[4, 4]]"
   ]
  },
  {
   "cell_type": "markdown",
   "metadata": {},
   "source": [
    "4.2.5 손실함수의 필요성\n",
    "    - 최적의 매개변수(가중치, 편향)을 탐색할 때 손실 함수 값을 최대화하도록\n",
    "    -> 이 때, 매개변수의 미분(기울기)를 근거로 매개변수 값 갱신하는 과정 반복\n",
    "    - 손실함수의 미분 == 가중치 매개변수의 값을 아주 조금 변화 시켰을 때, 손실함수가 어떻게 변하는지의 의미\n",
    "    = 미분 값이 음수 == 가중치 매개변수를 양의 방향으로 변화시켜 손실함수의 값 줄임\n",
    "    = 미분 값이 0 == 손실함수의 값이 변화가 없으므로 갱신 중단\n",
    "\n",
    "    == 정확도를 지표로 할 시, 매개변수의 미분이 대부분의 장소에서 0이 되기 때문"
   ]
  }
 ],
 "metadata": {
  "kernelspec": {
   "display_name": "Python 3.9.5 64-bit",
   "language": "python",
   "name": "python3"
  },
  "language_info": {
   "codemirror_mode": {
    "name": "ipython",
    "version": 3
   },
   "file_extension": ".py",
   "mimetype": "text/x-python",
   "name": "python",
   "nbconvert_exporter": "python",
   "pygments_lexer": "ipython3",
   "version": "3.9.5"
  },
  "orig_nbformat": 4,
  "vscode": {
   "interpreter": {
    "hash": "28435c4127f67b7607031f32967fe3943e6f69f1a5ec9adab2b1e0962cf71e07"
   }
  }
 },
 "nbformat": 4,
 "nbformat_minor": 2
}
