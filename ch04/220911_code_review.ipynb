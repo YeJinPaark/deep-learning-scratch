{
 "cells": [
  {
   "cell_type": "markdown",
   "metadata": {},
   "source": [
    "4.5 학습 알고리즘 구현\n",
    "    - 신경망 학습 절차(확률적 경사 하강법, stochastic gradient descent, SGD)\n",
    "        1. 미니배치: 훈련 데이터 중 일부 추출(이 일부가 미니배치), 미니배치의 손실함수 값을 줄이는 것이 학습 목표\n",
    "        2. 기울기 산출: 각 가중치 매개변수의 기울기 연산, 이 값으로 손실 함수의 값을 가장 작게 하는 방향 제시\n",
    "        3. 매개변수 갱신: 가중치 매개변수를 기울기 방향으로 아주 조금 갱신\n",
    "        4. 1~3단계 반복"
   ]
  },
  {
   "cell_type": "markdown",
   "metadata": {},
   "source": [
    "4.5.1 2층 신경망 클래스 구현\n",
    "    - 변수\n",
    "        1. params: 신경망의 매개변수를 보관하는 딕셔너리 변수, n층의 가중치 및 편향\n",
    "        2. grads: 기울기를 보관하는 딕셔너리 변수, n층의 가중치 및 편향의 기울기\n",
    "    - 클래스의 메서드\n",
    "        1. __init__: 초기화 수행, 인수(입력층의 뉴련 수, 은닉층의 뉴런 수, 출력층의 뉴런 수), 클래스 생성 시 불리는 메서드\n",
    "        2. predict: 예측(추론) 수행\n",
    "        3. loss: 손실함수 값 연산, 인수(x: 이미지 데이터, t: 정답 레이블)\n",
    "        4. accuracy: 정확도 연산\n",
    "        5. numerical_gradient: 가중치 매개변수의 기울기 연산\n",
    "        6. gradient: 가중치 매개변수의 기울기 연산, 5의 성능 개선"
   ]
  },
  {
   "cell_type": "code",
   "execution_count": 20,
   "metadata": {},
   "outputs": [],
   "source": [
    "import sys, os\n",
    "sys.path.append(os.pardir)\n",
    "from common.functions import *\n",
    "from common.gradient import numerical_gradient\n",
    "\n",
    "import numpy as np\n",
    "\n",
    "class TwoLayerNet:\n",
    "    def __init__(self, input_size, hidden_size, output_size, weight_init_std=0.01):\n",
    "        # 가중치 초기화: 정규분포를 따르는 난수\n",
    "        # 편향: 0으로 초기화\n",
    "        self.params={}\n",
    "        self.params['W1']=weight_init_std*np.random.randn(input_size, hidden_size,)\n",
    "        self.params['b1']=np.zeros(hidden_size)\n",
    "        self.params['W2']=weight_init_std*np.random.randn(hidden_size, output_size)\n",
    "        self.params['b2']=np.zeros(output_size)\n",
    "\n",
    "    def predict(self, x):\n",
    "        W1, W2=self.params['W1'], self.params['W2']\n",
    "        b1, b2=self.parmas['b1'], self.params['b2']\n",
    "\n",
    "        a1=np.dot(x, W1)+b1\n",
    "        z1=sigmoid(a1)\n",
    "        a2=np.dot(z1, W2)+b2\n",
    "        y=softmax(a2)\n",
    "\n",
    "        return y\n",
    "\n",
    "    # x: 입력 데이터, t: 정답 레이블-> 입력과 정답으로 교차 엔트로피 오차 연산\n",
    "    def loss(self, x, t):\n",
    "        y=self.predict(x)\n",
    "\n",
    "        return cross_entropy_error(y, t)\n",
    "\n",
    "    def accuracy(self, x, t):\n",
    "        y=self.predict(x)\n",
    "        y=np.argmax(y, axis=1)\n",
    "        t=np.argmax(t, axis=1)\n",
    "\n",
    "        accuracy=np.sum(y==t)/float(x.shape[0])\n",
    "        return accuracy\n",
    "\n",
    "    # 각 매개변수의 기울기 연산, 수치 미분 방식\n",
    "    def numerical_gradient(self, x, t):\n",
    "        loss_W=lambda W: self.loss(x, t)\n",
    "\n",
    "        grads={}\n",
    "        grads['W1']=numerical_gradient(loss_W, self.params['W1'])\n",
    "        grads['b1']=numerical_gradient(loss_W, self.params['b1'])\n",
    "        grads['W2']=numerical_gradient(loss_W, self.params['W2'])\n",
    "        grads['b2']=numerical_gradient(loss_W, self.params['b2'])\n",
    "\n",
    "        return grads\n"
   ]
  },
  {
   "cell_type": "code",
   "execution_count": 21,
   "metadata": {},
   "outputs": [
    {
     "name": "stdout",
     "output_type": "stream",
     "text": [
      "(784, 100)\n",
      "(100,)\n",
      "(100, 10)\n",
      "(10,)\n"
     ]
    }
   ],
   "source": [
    "net=TwoLayerNet(input_size=784, hidden_size=100, output_size=10)\n",
    "# 입력 이미지 28*28, 출력 10개, 은닉층은 적당한 사이즈로 설정\n",
    "print(net.params['W1'].shape)\n",
    "print(net.params['b1'].shape)\n",
    "print(net.params['W2'].shape)\n",
    "print(net.params['b2'].shape)"
   ]
  },
  {
   "cell_type": "markdown",
   "metadata": {},
   "source": [
    "4.5.2 미니배치 학습 구현\n",
    "    - 훈련 데이터 중 일부를 무작위로 꺼낸 후(미니배치), 경사법으로 매개변수 연산"
   ]
  },
  {
   "cell_type": "code",
   "execution_count": 22,
   "metadata": {},
   "outputs": [],
   "source": [
    "import numpy as np\n",
    "from mnist import load_mnist\n",
    "from two_layer_net import TwoLayerNet\n",
    "\n",
    "(x_train, t_train), (x_test, t_test)=load_mnist(normalize=True, one_hot_label=True)\n",
    "\n",
    "train_loss_list=[]\n",
    "\n",
    "# 하이퍼파라미터\n",
    "liters_num=10000    # 반복 횟수\n",
    "train_size=x_train.shape[0]\n",
    "batch_size=100      # 미니배치 크기\n",
    "learning_rate=0.1\n",
    "network=TwoLayerNet(input_size=784, hidden_size=50, output_size=10)\n",
    "\n",
    "for i in range(liters_num):\n",
    "    # 미니배치 획득\n",
    "    batch_mask=np.random.choice(train_size, batch_size)\n",
    "    x_batch=x_train[batch_mask]\n",
    "    t_batch=t_train[batch_mask]\n",
    "\n",
    "    # 기울기 계산 - 경사 하강법 수행\n",
    "    grad=network.numerical_gradient(x_batch, t_batch)\n",
    "    # grad = network.graident(x_batch, t_batch) # 성능 개선판\n",
    "\n",
    "    # 매개변수 갱신\n",
    "    for key in ('W1', 'b1', 'W2', 'b2'):\n",
    "        network.params[key]-=learning_rate*grad[key]\n",
    "\n",
    "    # 학습 경과 기록\n",
    "    loss=network.loss(x_batch, t_batch)\n",
    "    train_loss_list.append(loss)"
   ]
  },
  {
   "cell_type": "markdown",
   "metadata": {},
   "source": [
    "4.5.3 시험 데이터로 평가\n",
    "    - 범용 능력 평가: 훈련 데이터에 포함되지 않은 데이터 사용해 평가\n",
    "    - epoch: 학습에서 훈련 데이터를 모두 소진했을 대의 횟수(미니배치)"
   ]
  },
  {
   "cell_type": "code",
   "execution_count": null,
   "metadata": {},
   "outputs": [],
   "source": [
    "import numpy as np\n",
    "from mnist import load_mnist\n",
    "from two_layer_net import TwoLayerNet\n",
    "\n",
    "(x_train, t_train), (x_test, t_test)=load_mnist(normalize=True, one_hot_label=True)\n",
    "\n",
    "train_loss_list=[]\n",
    "train_acc_list=[]\n",
    "test_acc_list=[]\n",
    "# 1 epoch당 반복 수\n",
    "iter_per_epoch=max(train_size/batch_size, 1)\n",
    "\n",
    "# 하이퍼파라미터\n",
    "liters_num=10000    # 반복 횟수\n",
    "train_size=x_train.shape[0]\n",
    "batch_size=100      # 미니배치 크기\n",
    "learning_rate=0.1\n",
    "network=TwoLayerNet(input_size=784, hidden_size=50, output_size=10)\n",
    "\n",
    "for i in range(liters_num):\n",
    "    # 미니배치 획득\n",
    "    batch_mask=np.random.choice(train_size, batch_size)\n",
    "    x_batch=x_train[batch_mask]\n",
    "    t_batch=t_train[batch_mask]\n",
    "\n",
    "    # 기울기 계산 - 경사 하강법 수행\n",
    "    grad=network.numerical_gradient(x_batch, t_batch)\n",
    "    # grad = network.graident(x_batch, t_batch) # 성능 개선판\n",
    "\n",
    "    # 매개변수 갱신\n",
    "    for key in ('W1', 'b1', 'W2', 'b2'):\n",
    "        network.params[key]-=learning_rate*grad[key]\n",
    "\n",
    "    # 학습 경과 기록\n",
    "    loss=network.loss(x_batch, t_batch)\n",
    "    train_loss_list.append(loss)\n",
    "\n",
    "    # 1epoch 당 정확도 계산\n",
    "    if i%iter_per_epoch==0:\n",
    "        train_acc=network.accuracy(x_train, t_train)\n",
    "        test_acc=network.accuracy(x_test, t_test)\n",
    "        train_acc_list.append(train_acc)\n",
    "        test_acc_list.append(test_acc)\n",
    "        print(\"train acc, test acc |\"+str(train_acc)+\", \"+str(test_acc))"
   ]
  },
  {
   "cell_type": "markdown",
   "metadata": {},
   "source": [
    "- 훈련 데이터와 시험 데이터를 사용하고 평가한 정확도가 차이가 별로 없다==오버피팅 X\n",
    "- 오버피팅 예방법 중 early stopping!\n",
    "\n",
    "4.6 정리\n",
    "    - 신경망 학습의 지표: 손실 함수\n",
    "    - 손실함수 기준으로 값이 가장 작아지는 가중치 매개변수 도출\n",
    "    - 수치 미분: 아주 작은 값을 주었을 때의 차분으로 미분 연산, 가중치 매개변수의 기울기 도출 가능, 시간 소요가 좀 있음-> 이는 오차역전파법으로 해결 가능"
   ]
  }
 ],
 "metadata": {
  "kernelspec": {
   "display_name": "Python 3.9.5 64-bit",
   "language": "python",
   "name": "python3"
  },
  "language_info": {
   "codemirror_mode": {
    "name": "ipython",
    "version": 3
   },
   "file_extension": ".py",
   "mimetype": "text/x-python",
   "name": "python",
   "nbconvert_exporter": "python",
   "pygments_lexer": "ipython3",
   "version": "3.9.5"
  },
  "orig_nbformat": 4,
  "vscode": {
   "interpreter": {
    "hash": "28435c4127f67b7607031f32967fe3943e6f69f1a5ec9adab2b1e0962cf71e07"
   }
  }
 },
 "nbformat": 4,
 "nbformat_minor": 2
}
